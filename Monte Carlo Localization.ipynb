{
 "metadata": {
  "name": "Monte Carlo Localization"
 },
 "nbformat": 3,
 "nbformat_minor": 0,
 "worksheets": [
  {
   "cells": [
    {
     "cell_type": "markdown",
     "metadata": {},
     "source": "Monte Carlo localization\n========================\n\nBefore robots can move around to a specific spot in your house, they need to know how to get there.\nBut before they can plan a path from A to B, they must first know where A is! \nThe problem of 'knowing where you are' is called localization. \n\nSeveral algorithms (a step-by-step description of a process to solve some problem) for localization exist.\nOne such method is Monte Carlo Localization, or MCL. \n\nIt uses a pre-made map of the environment. The robot can move around and sense the environment. \n\nIn this notebook, the 'environment' consists of colored tiles over which the robot can drive. The map represents this as well.\n\nThe robot keeps an internal chart of where it thinks it most likely is. \nAt first, it can be anywhere, so each tile on its internal chart is given an equal probability.\nWe always know for sure that the robot is at least somewhere on the map, so the probabilities on the chart should always add up to one. \n\nThe algorithm works in two basic steps:\n\n  1. Motion update, that moves the probabilities on the internal chart along with the movements of the robot.\n  2. Sensor update, in which it senses which color tile it is on\n  \nThe concept behind the algorithm is relatively simple:\nIf you see/sense that you are on, say, a  blue tile and on your map you see there are only 20 blue tiles of 100 tiles in total, then there is a 20 in 100 probability of being at each of those blue tiles. So, we mark those with 100/20=5% probability. The other tiles are not blue, so we are certainly not there and thus those tiles get 0% probability on the chart. \nYou have given the internal map a sensor update, because we used our sensors (eyes) to update the chart.\n\nNow, if you move one step to the south (you don't neccessarily know which direction you are headed, so this is a simplified case), you then know that you are one step below one of the blue tiles. \nNow, all tiles one step south of the ones you could previously be at get 20 in 100 (100/20 = 5%) probability. This is the motion update.\n\nNext, you sense (sensor update) that you are on a red tile. Of the 20 tiles we could be at, only 8 of them are red, so all in all we can be at 8 of the 100 tiles. We can be at each of those 8 tiles with 100/8 = 12.5% probability. \nWe move one step south again and move the probabilities to the tiles south of us again.\n\nAgain we go for a sensor update and see what solor tile we are on. This time, we are on a green tile. We could be at 8 possible tiles from the previous step, but of those, only 2 are green. By now, you can probably figure out that each of those tiles has 50% probability of us actually being there. \nWe can repeat this until we know exactly where we are. \n\nAs mentioned earlier, we may not know where exactly we we are at first and not even know which we we're headed. \nThis has implications for out motion update. When we know what direction we're headed at, we simply move the probabilities with us. \nBut if we don't know that, then our motion update should reflect that we we headed south, noth, west, or east. After moving, we have move in either of those 4 directions, so we could be in 4 tiles adjacent to where we initially were. \nThe probabilities of the tile we could come from must thus be distibuted across the tiles we may have moved to. "
    },
    {
     "cell_type": "markdown",
     "metadata": {},
     "source": "Colors and features\n-------------------\nAs said, the environment consists of colored tiles. \nWhich colors? We generate some random colors. A color consists of 3 intensities for Red, Green and Blue light. \nWe create a dictionary that translates a number to a color and a dictionary to translate colors to a number, which we use as the color's name."
    },
    {
     "cell_type": "code",
     "collapsed": false,
     "input": "colors = {j:(randint(255),randint(255), randint(255)) for j in range(5)}\ninverse = {col:name for name,col in colors.iteritems()}",
     "language": "python",
     "metadata": {},
     "outputs": [],
     "prompt_number": 308
    },
    {
     "cell_type": "markdown",
     "metadata": {},
     "source": "Generating a map\n----------------\nWe are lazy again and let the computer lay out the (virtual) tiles for us, in the colors we defined above.\nThe environment is a grid or matrix. In computers, this is often callen an array.\n\nBelow, we import a function to take a random element from a list called 'choice'.\nWe use it to first make a list of 10 elements. To make each element of that list, we use 'choice' to take a value from the colors.\nWe make a list of 10 such lists. \n\nOf that list of list, we make an array which we call 'floormap'. "
    },
    {
     "cell_type": "code",
     "collapsed": false,
     "input": "from random import choice\nfloor_list_of_lists = [[choice(colors.values()) for i in range(10)] for j in range(10)]\nfloormap = array(floor_list_of_lists)",
     "language": "python",
     "metadata": {},
     "outputs": [],
     "prompt_number": 309
    },
    {
     "cell_type": "markdown",
     "metadata": {},
     "source": "We want to know what our map looks like, so we plot it. \nWe generated some colors and the imshow function uses that to draw the grid below. \n\nOn top of that, we plot the name (number) of the color in each cell (tile) by iterating each row in the array, and for that row iterating over each tile in it. Then we look place some text on the coordinates of the tile in the map. \nThe text we put there is found by looking up the number of the color in the dictionary we defined before. "
    },
    {
     "cell_type": "code",
     "collapsed": false,
     "input": "imshow(floormap, interpolation='nearest')\nfor x,row in enumerate(floormap):\n    for y,cell in enumerate(row):\n        tcell = tuple(cell)\n        text(y,x, inverse[tcell])\nshow()",
     "language": "python",
     "metadata": {},
     "outputs": [
      {
       "metadata": {},
       "output_type": "display_data",
       "png": "[encoded data removed]",
       "text": "<matplotlib.figure.Figure at 0xbbc6430>"
      }
     ],
     "prompt_number": 310
    },
    {
     "cell_type": "markdown",
     "metadata": {},
     "source": "Again, we are lazy and use the computer to do our bidding.\n\nWe set some directions for the robot to follow. So, in this case, we do know what way the robot is headed.\nThe algorithm will receive a map, a list of colors is senses and a list of motions it makes. \nThe robot can only know the map and the motions, but *we* also know where it started from and, with the motions, where it will be at the end. \nBecause we are lazy and we can program, we can generate the list of colors from the map and the motions.\nWe feed this to the algorithm later to see if it can work out we it started from and where it ended up given only the map, sensor readings and motions. \n\nBelow, we make and use the function 'colorreadings_from_path' to generate a list of colors that we will see if we follow the given path from the given start. "
    },
    {
     "cell_type": "code",
     "collapsed": false,
     "input": "start = (0,1) #robot does not know this\n#         (dx,dy) \nmotions = [(0,1), (0,1), (0,1), (1,0), (1,0)] #Robot does know this.\ndef colorreadings_from_path(start, path, kaart): #The robot cannot use this function, this is four our convenience only\n    current = list(start)\n    for dy,dx in path:\n        current[0]+=dx\n        current[1]+=dy\n        yield kaart[tuple(current)]\n\n#Robot only knows the color, not the coords the color came from\nsensor_readings = list(colorreadings_from_path(start, motions, floormap))\n#print sensor_readings\n\ncolor_namepath = [inverse[tuple(col)] for col in sensor_readings]\nprint color_namepath #Which colors do we encounter when moving around?",
     "language": "python",
     "metadata": {},
     "outputs": [
      {
       "output_type": "stream",
       "stream": "stdout",
       "text": "[0, 2, 3, 3, 3]\n"
      }
     ],
     "prompt_number": 318
    },
    {
     "cell_type": "code",
     "collapsed": false,
     "input": "def plot_motion(motions, kaart):\n    #start = (kaart.shape[0]/2, kaart.shape[1]/2) \n    empty = zeros(kaart.shape[:2])\n    \n    current = list(start)\n    empty[current[0], current[1]] = 1\n    for dy,dx in motions:\n        current[0]+=dx\n        current[1]+=dy\n        empty[current[0], current[1]] = 1\n    return empty\nroute = plot_motion(motions, floormap)\nspy(route)",
     "language": "python",
     "metadata": {},
     "outputs": [
      {
       "metadata": {},
       "output_type": "pyout",
       "prompt_number": 312,
       "text": "<matplotlib.image.AxesImage at 0xc0621f0>"
      },
      {
       "metadata": {},
       "output_type": "display_data",
       "png": "[encoded data removed]",
       "text": "<matplotlib.figure.Figure at 0xbd06950>"
      }
     ],
     "prompt_number": 312
    },
    {
     "cell_type": "code",
     "collapsed": false,
     "input": "def find_color_occurrences(color, kaart):\n    for y, row in enumerate(kaart):\n        for x, cell in enumerate(row):\n            if array_equal(cell, color):\n                yield y,x\noccurrences = list(find_color_occurrences(sensor_reading[0], floormap))\nprint occurrences",
     "language": "python",
     "metadata": {},
     "outputs": [
      {
       "output_type": "stream",
       "stream": "stdout",
       "text": "[]\n"
      }
     ],
     "prompt_number": 313
    },
    {
     "cell_type": "code",
     "collapsed": false,
     "input": "def map_occurrences(occurrences, kaart):\n    empty = zeros(kaart.shape[:2])\n    for y,x in occurrences:\n        empty[y][x] = 1.0/len(occurrences)\n    return empty\n        \nsensor_map = map_occurrences(occurrences, floormap)\nspy(sensor_map)",
     "language": "python",
     "metadata": {},
     "outputs": [
      {
       "metadata": {},
       "output_type": "pyout",
       "prompt_number": 314,
       "text": "<matplotlib.image.AxesImage at 0xc105d90>"
      },
      {
       "metadata": {},
       "output_type": "display_data",
       "png": "[encoded data removed]",
       "text": "<matplotlib.figure.Figure at 0xb9c27d0>"
      }
     ],
     "prompt_number": 314
    },
    {
     "cell_type": "code",
     "collapsed": false,
     "input": "def mcl(kaart, motions, colorreadings):\n    probabilities = ones(kaart.shape[:2])\n    probabilities *= (1.0 / probabilities.sum()) #normalize. All prob added up is 1, so we are certainly somewhere on the map\n    \n    steps = len(motions)\n    cols = 3\n    \n    for step, (motion, color) in enumerate(zip(motions, colorreadings)):\n        print \"### {0} ###\".format(step)\n        print \"{1}: Moving {0}\".format(motion, step)\n        motion_update = roll(probabilities, motion[1], 0) #This rolls the values around while we only want to shift. TODO\n        motion_update = roll(motion_update, motion[0], 1) #This rolls the values around while we only want to shift. TODO\n        #print motion_update\n        #subplot(steps, cols, step%cols + 1)\n        #ylabel(\"Moving {0}\".format(motion))\n        #imshow(motion_update, interpolation='nearest')\n        \n        print \"{2}: seeing color {0} with name {1}\".format(color, inverse[tuple(color)], step)\n        sensor_possibilities = map_occurrences(list(find_color_occurrences(color, kaart)), kaart)\n        #print sensor_possibilities\n        #subplot(steps, cols, step%cols + 2)\n        #ylabel(\"seeing color {0}\".format(color))\n        #imshow(sensor_possibilities, interpolation='nearest')\n        \n        #print \"Updated probabilities (before normalizing):\"\n        probabilities = motion_update * sensor_possibilities\n        #print probabilities\n        \n        #print \"{0}: Updated probabilities (after normalizing):\".format(step)\n        probabilities *= (1.0 / probabilities.sum()) #normalize. All prob added up is 1, so we are certainly somewhere on the map\n        #print probabilities\n        #subplot(steps, cols, step%cols + 3)\n        #ylabel(\"Updated probabilities\")\n        #imshow(probabilities, interpolation='nearest')\n        print \"------\"\n    show()\n    return probabilities\n        \nprobdist =  mcl(floormap, motions, sensor_readings)\nspy(probdist)",
     "language": "python",
     "metadata": {},
     "outputs": [
      {
       "output_type": "stream",
       "stream": "stdout",
       "text": "### 0 ###\n0: Moving (0, 1)\n0: seeing color [205  93  64] with name 0\n------\n### 1 ###\n1: Moving (0, 1)\n1: seeing color [201  86 146] with name 2\n------\n### 2 ###\n2: Moving (0, 1)\n2: seeing color [ 5 25 64] with name 3\n------\n### 3 ###\n3: Moving (1, 0)\n3: seeing color [ 5 25 64] with name 3\n------\n### 4 ###\n4: Moving (1, 0)\n4: seeing color [ 5 25 64] with name 3\n------\n"
      },
      {
       "metadata": {},
       "output_type": "pyout",
       "prompt_number": 315,
       "text": "<matplotlib.image.AxesImage at 0xbd20990>"
      },
      {
       "metadata": {},
       "output_type": "display_data",
       "png": "[encoded data removed]",
       "text": "<matplotlib.figure.Figure at 0xbcb99d0>"
      }
     ],
     "prompt_number": 315
    },
    {
     "cell_type": "code",
     "collapsed": false,
     "input": "",
     "language": "python",
     "metadata": {},
     "outputs": [],
     "prompt_number": 315
    }
   ],
   "metadata": {}
  }
 ]
}