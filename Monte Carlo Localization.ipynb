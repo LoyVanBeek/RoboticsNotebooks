{
 "metadata": {
  "name": ""
 },
 "nbformat": 3,
 "nbformat_minor": 0,
 "worksheets": [
  {
   "cells": [
    {
     "cell_type": "markdown",
     "metadata": {},
     "source": [
      "Monte Carlo localization\n",
      "========================\n",
      "Before robots can move around to a specific spot in your house, they need to know how to get there. But before they can plan a path from A to B, they must first know where A is! The problem of 'knowing where you are' is called localization. \n",
      "\n",
      "Several algorithms (a step-by-step description of a process to solve some problem) for localization exist. One such method is Monte Carlo Localization, or MCL. \n",
      "\n",
      "It uses a pre-made map of the environment. The robot can move around and sense the environment. \n",
      "\n",
      "In this notebook, the 'environment' consists of colored tiles over which the robot can drive. The map represents this as well.\n",
      "\n",
      "The robot keeps an internal chart of where it thinks it most likely is. At first, it can be anywhere, so each tile on its internal chart is given an equal probability. We always know for sure that the robot is at least somewhere on the map, so the probabilities on the chart should always add up to one."
     ]
    },
    {
     "cell_type": "markdown",
     "metadata": {},
     "source": [
      "The algorithm: step-by-step\n",
      "---------------------------\n",
      "The algorithm works in two basic steps:\n",
      "\n",
      "  1. Motion update, that moves the probabilities on the internal chart along with the movements of the robot.\n",
      "  2. Sensor update, in which it senses which color tile it is on\n",
      "  \n",
      "The concept behind the algorithm is relatively simple:\n",
      "If you see/sense that you are on, say, a  blue tile and on your map you see there are only 20 blue tiles of 100 tiles in total, then there is a 20 in 100 probability of being at each of those blue tiles. So, we mark those with 100/20=5% probability. The other tiles are not blue, so we are certainly not there and thus those tiles get 0% probability on the chart. \n",
      "You have given the internal map a sensor update, because we used our sensors (eyes) to update the chart.\n",
      "\n",
      "Now, if you move one step to the south (you don't neccessarily know which direction you are headed, so this is a simplified case), you then know that you are one step below one of the blue tiles. \n",
      "Now, all tiles one step south of the ones you could previously be at get 20 in 100 (100/20 = 5%) probability. This is the motion update.\n",
      "\n",
      "Next, you sense (sensor update) that you are on a red tile. Of the 20 tiles we could be at, only 8 of them are red, so all in all we can be at 8 of the 100 tiles. We can be at each of those 8 tiles with 100/8 = 12.5% probability. \n",
      "We move one step south again and move the probabilities to the tiles south of us again.\n",
      "\n",
      "Again we go for a sensor update and see what solor tile we are on. This time, we are on a green tile. We could be at 8 possible tiles from the previous step, but of those, only 2 are green. By now, you can probably figure out that each of those tiles has 50% probability of us actually being there. \n",
      "We can repeat this until we know exactly where we are. \n",
      "\n",
      "As mentioned earlier, we may not know where exactly we we are at first and not even know which we we're headed. \n",
      "This has implications for out motion update. When we know what direction we're headed at, we simply move the probabilities with us. \n",
      "But if we don't know that, then our motion update should reflect that we we headed south, noth, west, or east. After moving, we have move in either of those 4 directions, so we could be in 4 tiles adjacent to where we initially were. \n",
      "The probabilities of the tile we could come from must thus be distibuted across the tiles we may have moved to. "
     ]
    },
    {
     "cell_type": "markdown",
     "metadata": {},
     "source": [
      "Colors and features\n",
      "-------------------\n",
      "As said, the environment consists of colored tiles. \n",
      "Which colors? We generate some random colors. A color consists of 3 intensities for Red, Green and Blue light. \n",
      "We create a dictionary that translates a number to a color and a dictionary to translate colors to a number, which we use as the color's name."
     ]
    },
    {
     "cell_type": "code",
     "collapsed": false,
     "input": [
      "colors = {j:(randint(255),randint(255), randint(255)) for j in range(5)}\n",
      "inverse = {col:name for name,col in colors.iteritems()}"
     ],
     "language": "python",
     "metadata": {},
     "outputs": [],
     "prompt_number": 9
    },
    {
     "cell_type": "markdown",
     "metadata": {},
     "source": [
      "Generating a map\n",
      "----------------\n",
      "We are lazy again and let the computer lay out the (virtual) tiles for us, in the colors we defined above.\n",
      "The environment is a grid or matrix. In computers, this is often callen an array.\n",
      "\n",
      "Below, we import a function to take a random element from a list called 'choice'.\n",
      "We use it to first make a list of 10 elements. To make each element of that list, we use 'choice' to take a value from the colors.\n",
      "We make a list of 10 such lists. \n",
      "\n",
      "Of that list of list, we make an array which we call 'floormap'. "
     ]
    },
    {
     "cell_type": "code",
     "collapsed": false,
     "input": [
      "from random import choice\n",
      "floor_list_of_lists = [[choice(colors.values()) for i in range(10)] for j in range(10)]\n",
      "floormap = array(floor_list_of_lists)"
     ],
     "language": "python",
     "metadata": {},
     "outputs": [],
     "prompt_number": 10
    },
    {
     "cell_type": "markdown",
     "metadata": {},
     "source": [
      "We want to know what our map looks like, so we plot it. \n",
      "We generated some colors and the imshow function uses that to draw the grid below. \n",
      "\n",
      "On top of that, we plot the name (number) of the color in each cell (tile) by iterating each row in the array, and for that row iterating over each tile in it. Then we look place some text on the coordinates of the tile in the map. \n",
      "The text we put there is found by looking up the number of the color in the dictionary we defined before. "
     ]
    },
    {
     "cell_type": "code",
     "collapsed": false,
     "input": [
      "imshow(floormap, interpolation='nearest')\n",
      "for x,row in enumerate(floormap):\n",
      "    for y,cell in enumerate(row):\n",
      "        tcell = tuple(cell)\n",
      "        text(y,x, inverse[tcell])\n",
      "show()"
     ],
     "language": "python",
     "metadata": {},
     "outputs": [
      {
       "metadata": {},
       "output_type": "display_data",
       "png": "[encoded data removed]",
       "text": [
        "<matplotlib.figure.Figure at 0x4e49290>"
       ]
      }
     ],
     "prompt_number": 11
    },
    {
     "cell_type": "markdown",
     "metadata": {},
     "source": [
      "Defining movements\n",
      "------------------\n",
      "Again, we are lazy and use the computer to do our bidding.\n",
      "\n",
      "We set some directions for the robot to follow. So, in this case, we do know what way the robot is headed.\n",
      "The Monte Carlo Localization algorithm will receive a map, a list of colors is senses and a list of motions it makes. We will not tell it where it is starting from, but it has to figure out where it thinks it may be at each step. \n",
      "\n",
      "### Being lazy: generating sensor data\n",
      "The robot can only know the map and the motions, but *we* also know where it started from and, with the motions, where it will be at the end. \n",
      "Because we are lazy and we can program, we can don't have to look up and note which colors the robot should see by hand. Instead, we generate the list of colors from the map and the motions.\n",
      "We feed this list of colors to the MCL algorithm later to see if it can work out we it started from and where it ended up given only the map, sensor readings and motions. \n",
      "\n",
      "Below, we make and use the function 'colorreadings_from_path' to generate a list of colors that we will see if we follow the given path from the given start. "
     ]
    },
    {
     "cell_type": "code",
     "collapsed": false,
     "input": [
      "start = (0,1) #robot does not know this\n",
      "#         (dx,dy) \n",
      "motions = [(0,1), (0,1), (0,1), (1,0), (1,0)] #Robot does know this.\n",
      "def colorreadings_from_path(start, path, kaart): #The robot cannot use this function, this is four our convenience only\n",
      "    current = list(start)\n",
      "    for dy,dx in path:\n",
      "        current[0]+=dx\n",
      "        current[1]+=dy\n",
      "        yield kaart[tuple(current)]\n",
      "\n",
      "#Robot only knows the color, not the coords the color came from\n",
      "sensor_readings = list(colorreadings_from_path(start, motions, floormap))\n",
      "#print sensor_readings\n",
      "\n",
      "color_namepath = {inverse[tuple(col)]:tuple(col) for col in sensor_readings}\n",
      "from pprint import pprint\n",
      "print \"The color names we encounter: \"\n",
      "pprint(color_namepath) #Which colors do we encounter when moving around?"
     ],
     "language": "python",
     "metadata": {},
     "outputs": [
      {
       "output_type": "stream",
       "stream": "stdout",
       "text": [
        "The color names we encounter: \n",
        "{0: (52, 104, 151), 2: (207, 58, 81), 3: (138, 57, 25), 4: (133, 215, 180)}\n"
       ]
      }
     ],
     "prompt_number": 18
    },
    {
     "cell_type": "markdown",
     "metadata": {},
     "source": [
      "Above is a list of the color names and the actual color we encounter. "
     ]
    },
    {
     "cell_type": "markdown",
     "metadata": {},
     "source": [
      "Plotting the known path\n",
      "-----------------------\n",
      "Again we do something lazy and let the computer take some thinking and work from us. \n",
      "We set out a path for the robot to take, but below we let the computer draw it for us. \n",
      "\n",
      "The function plot_motion takes a starting location, the motions we make of course and the map.\n",
      "First, we make an array filled with seroes the same size as the map. The map has 3 dimensions actually, with the 3rd being the three color values. The route we let the robot make is 2-dimensional, so we only take the first two dimensions of the map. \n",
      "\n",
      "Then we mark every position we encounter with an increasing number, opposed to the 0's we will not be at. We start with marking the start location and then iterating each of the motions. For every motion, we add the steps we take (how much in x and how much in y) to the current position. Then we mark the new current position. \n",
      "\n",
      "The function then returns the map we drew in and we show the map.\n",
      "**Remember**, the robot only knows the shape of the path, i.e. only which directions to take but not where it starts from. Only we know and let the robot figure this out via Monte Carlo Localization"
     ]
    },
    {
     "cell_type": "code",
     "collapsed": false,
     "input": [
      "def plot_motion(startloc, motions, kaart):\n",
      "    #start = (kaart.shape[0]/2, kaart.shape[1]/2) \n",
      "    empty = zeros(kaart.shape[:2])\n",
      "    \n",
      "    current = list(startloc)\n",
      "    empty[current[0], current[1]] = 1\n",
      "    for index, (dy,dx) in enumerate(motions, start=2): #maps background is 0, so the startloc gets value 1, so we must start from 2\n",
      "        current[0]+=dx\n",
      "        current[1]+=dy\n",
      "        empty[current[0], current[1]] = index\n",
      "    return empty\n",
      "route = plot_motion(start, motions, floormap)\n",
      "imshow(route, interpolation=\"nearest\")\n",
      "show()"
     ],
     "language": "python",
     "metadata": {},
     "outputs": [
      {
       "metadata": {},
       "output_type": "display_data",
       "png": "[encoded data removed]",
       "text": [
        "<matplotlib.figure.Figure at 0x62178d0>"
       ]
      }
     ],
     "prompt_number": 37
    },
    {
     "cell_type": "markdown",
     "metadata": {},
     "source": [
      "Where *could* we be?\n",
      "--------------------\n",
      "One of the steps of the MCL algorithm is to find where the robot *may* be at. This is done by taking the map and finding every occurrence of a specific color: the color that we can see now. \n",
      "The function below again loops over the rows and cells in the map. When the color of the tile (cell) in the map is equal to the one we see, then we could be at the coordinates of the tile in the map. \n",
      "\n",
      "Then, we **yield** those coordinates. The yield-keyword in Python is equivalent to being sent off to find something and saying (yielding) \"I found X\" and then taking a pause before getting command to find the next thing. You also do this without yourself keeping track of all the things you found. If thats needed, then thats up to the person that commanded you to find things. If its not needed, you don't need to remember and save you some memory.\n",
      "\n",
      "Below, we want to show the list of all coordinates where the color we see at the start occurs in the floormap. "
     ]
    },
    {
     "cell_type": "code",
     "collapsed": false,
     "input": [
      "def find_color_occurrences(color, kaart):\n",
      "    for y, row in enumerate(kaart):\n",
      "        for x, cell in enumerate(row):\n",
      "            if array_equal(cell, color):\n",
      "                yield y,x\n",
      "occurrences = list(find_color_occurrences(sensor_readings[0], floormap))\n",
      "print occurrences"
     ],
     "language": "python",
     "metadata": {},
     "outputs": [
      {
       "output_type": "stream",
       "stream": "stdout",
       "text": [
        "[(0, 2), (0, 4), (0, 7), (0, 9), (1, 1), (2, 2), (3, 1), (5, 1), (5, 3), (5, 5), (6, 7), (6, 9), (7, 4), (7, 6), (7, 8), (8, 9), (9, 0)]\n"
       ]
      }
     ],
     "prompt_number": 14
    },
    {
     "cell_type": "markdown",
     "metadata": {},
     "source": [
      "This list is not very intuitive to use, so again we let the computer plot it for us by marking every coordinate in the list.\n",
      "\n",
      "We again make an empty copy of the map. \n",
      "We then iterate the coordinates of the occurrences and for each of those, we mark them with the probability that we're actually on that coordinate. \n",
      "This probability is equal for each of those tiles, so we divide 1 by the number of occurences, i.e. the length of the list of occurrences.\n",
      "\n",
      "Once we made this map, we plot it. "
     ]
    },
    {
     "cell_type": "code",
     "collapsed": false,
     "input": [
      "def map_occurrences(occurrences, kaart):\n",
      "    empty = zeros(kaart.shape[:2])\n",
      "    for y,x in occurrences:\n",
      "        empty[y][x] = 1.0/len(occurrences)\n",
      "    return empty\n",
      "        \n",
      "sensor_map = map_occurrences(occurrences, floormap)\n",
      "spy(sensor_map)"
     ],
     "language": "python",
     "metadata": {},
     "outputs": [
      {
       "metadata": {},
       "output_type": "pyout",
       "prompt_number": 15,
       "text": [
        "<matplotlib.image.AxesImage at 0x50d85b0>"
       ]
      },
      {
       "metadata": {},
       "output_type": "display_data",
       "png": "[encoded data removed]",
       "text": [
        "<matplotlib.figure.Figure at 0x4f7c310>"
       ]
      }
     ],
     "prompt_number": 15
    },
    {
     "cell_type": "markdown",
     "metadata": {},
     "source": [
      "As you can see, there are quite some places the robot thinks it could be."
     ]
    },
    {
     "cell_type": "markdown",
     "metadata": {},
     "source": [
      "Now we get to the final algorithm. \n",
      "It needs to keep track of the probabilities of being at each of the tiles. This is the array 'possible_locs'. We first set all cells to one, but then normalize it to have all the probabilities *add up to* one. \n",
      "\n",
      "Then we iterate over the motions and color readings. Motions and colorreadings are two separate list, but can be joined together by the zip function, so we get a list of (motion, color)-pairs. For debugging purposes, we also want to know at what index of the list we're at, so we enumerate the list.\n",
      "\n",
      "For each (motion, color)-pair, we first do the motion update. This means moving the probabilities along with our movement. We use the built-in function 'roll' for this, and do it once for the X-direction and once for the Y-direction. \n",
      "\n",
      "Then we do a sensor update and use the functions we made earlier to make a map of all the tiles we could be at, based on the color we got from the colorreadings. \n",
      "We multiply the probabilities we got from the motion update with the probabilities from the sensor update and normalize the probabilities in possible_locs again.\n",
      "\n",
      "After each iteration, we use yield again to give the caller of the function an update on the possible_locations. "
     ]
    },
    {
     "cell_type": "code",
     "collapsed": false,
     "input": [
      "def mcl(kaart, motions, colorreadings):\n",
      "    possible_locs = ones(kaart.shape[:2])\n",
      "    possible_locs *= (1.0 / possible_locs.sum()) #normalize. All prob added up is 1, so we are certainly somewhere on the map\n",
      "    \n",
      "    for step, (motion, color) in enumerate(zip(motions, colorreadings)):\n",
      "        print \"### {0} ###\".format(step)\n",
      "        print \"{1}: Moving {0}\".format(motion, step)\n",
      "        motion_update = roll(possible_locs, motion[1], 0) #This rolls the values around while we only want to shift. TODO\n",
      "        motion_update = roll(motion_update, motion[0], 1) #This rolls the values around while we only want to shift. TODO\n",
      "        \n",
      "        print \"{2}: seeing color {0} with name {1}\".format(color, inverse[tuple(color)], step)\n",
      "        sensor_possibilities = map_occurrences(list(find_color_occurrences(color, kaart)), kaart)\n",
      "        \n",
      "        #Multiplying the motion and sensor update. Motion update is already an updated version of possible_locs\n",
      "        possible_locs = motion_update * sensor_possibilities\n",
      "        possible_locs *= (1.0 / possible_locs.sum()) #normalize. All prob added up is 1, so we are certainly somewhere on the map\n",
      "\n",
      "        print \"------\"\n",
      "        yield possible_locs\n",
      "    #show()\n",
      "    #return possible_locs\n",
      "        \n",
      "possible_location_updates =  mcl(floormap, motions, sensor_readings)"
     ],
     "language": "python",
     "metadata": {},
     "outputs": [],
     "prompt_number": 35
    },
    {
     "cell_type": "markdown",
     "metadata": {},
     "source": [
      "the mcl function is a **generator**, as defined by the use of the yield-keyword. A generator, in Python, can generate a new (next) value when you command it it to do so. If you don't give that command, no new value will be produced and therefore, computations will only be executed when you really need them."
     ]
    },
    {
     "cell_type": "code",
     "collapsed": false,
     "input": [
      "first_step = possible_location_updates.next()\n",
      "spy(first_step)"
     ],
     "language": "python",
     "metadata": {},
     "outputs": [
      {
       "output_type": "stream",
       "stream": "stdout",
       "text": [
        "### 0 ###\n",
        "0: Moving (0, 1)\n",
        "0: seeing color [207  58  81] with name 2\n",
        "------\n"
       ]
      },
      {
       "metadata": {},
       "output_type": "pyout",
       "prompt_number": 31,
       "text": [
        "<matplotlib.image.AxesImage at 0x6224970>"
       ]
      },
      {
       "metadata": {},
       "output_type": "display_data",
       "png": "[encoded data removed]",
       "text": [
        "<matplotlib.figure.Figure at 0x61a04f0>"
       ]
      }
     ],
     "prompt_number": 31
    },
    {
     "cell_type": "markdown",
     "metadata": {},
     "source": [
      "The first time we call next() on possible_location_updates, it starts to execute the algorithm up to the first yield-statement. \n",
      "The algorithm gives you an update of where it thinks it may be. Quite some places, as this is what we saw earlier."
     ]
    },
    {
     "cell_type": "code",
     "collapsed": false,
     "input": [
      "spy(possible_location_updates.next())"
     ],
     "language": "python",
     "metadata": {},
     "outputs": [
      {
       "output_type": "stream",
       "stream": "stdout",
       "text": [
        "### 1 ###\n",
        "1: Moving (0, 1)\n",
        "1: seeing color [133 215 180] with name 4\n",
        "------\n"
       ]
      },
      {
       "metadata": {},
       "output_type": "pyout",
       "prompt_number": 24,
       "text": [
        "<matplotlib.image.AxesImage at 0x5e26a50>"
       ]
      },
      {
       "metadata": {},
       "output_type": "display_data",
       "png": "[encoded data removed]",
       "text": [
        "<matplotlib.figure.Figure at 0x53769f0>"
       ]
      }
     ],
     "prompt_number": 24
    },
    {
     "cell_type": "markdown",
     "metadata": {},
     "source": [
      "The algorithm has paused until we called next on it again. Then it executed a next iteration of motion & sensor update and now know a bit better where the robot may be, as there are less candidate locations."
     ]
    },
    {
     "cell_type": "code",
     "collapsed": false,
     "input": [
      "spy(possible_location_updates.next())"
     ],
     "language": "python",
     "metadata": {},
     "outputs": [
      {
       "output_type": "stream",
       "stream": "stdout",
       "text": [
        "### 2 ###\n",
        "2: Moving (0, 1)\n",
        "2: seeing color [207  58  81] with name 2\n",
        "------\n"
       ]
      },
      {
       "metadata": {},
       "output_type": "pyout",
       "prompt_number": 25,
       "text": [
        "<matplotlib.image.AxesImage at 0x5f19a10>"
       ]
      },
      {
       "metadata": {},
       "output_type": "display_data",
       "png": "[encoded data removed]",
       "text": [
        "<matplotlib.figure.Figure at 0x5e11310>"
       ]
      }
     ],
     "prompt_number": 25
    },
    {
     "cell_type": "markdown",
     "metadata": {},
     "source": [
      "Even less candidate locations in the next steps"
     ]
    },
    {
     "cell_type": "code",
     "collapsed": false,
     "input": [
      "spy(possible_location_updates.next())"
     ],
     "language": "python",
     "metadata": {},
     "outputs": [
      {
       "output_type": "stream",
       "stream": "stdout",
       "text": [
        "### 3 ###\n",
        "3: Moving (1, 0)\n",
        "3: seeing color [138  57  25] with name 3\n",
        "------\n"
       ]
      },
      {
       "metadata": {},
       "output_type": "pyout",
       "prompt_number": 26,
       "text": [
        "<matplotlib.image.AxesImage at 0x6037f70>"
       ]
      },
      {
       "metadata": {},
       "output_type": "display_data",
       "png": "[encoded data removed]",
       "text": [
        "<matplotlib.figure.Figure at 0x5f064b0>"
       ]
      }
     ],
     "prompt_number": 26
    },
    {
     "cell_type": "code",
     "collapsed": false,
     "input": [
      "spy(possible_location_updates.next())"
     ],
     "language": "python",
     "metadata": {},
     "outputs": [
      {
       "output_type": "stream",
       "stream": "stdout",
       "text": [
        "### 4 ###\n",
        "4: Moving (1, 0)\n",
        "4: seeing color [ 52 104 151] with name 0\n",
        "------\n"
       ]
      },
      {
       "metadata": {},
       "output_type": "pyout",
       "prompt_number": 27,
       "text": [
        "<matplotlib.image.AxesImage at 0x60c44f0>"
       ]
      },
      {
       "metadata": {},
       "output_type": "display_data",
       "png": "[encoded data removed]",
       "text": [
        "<matplotlib.figure.Figure at 0x60255d0>"
       ]
      }
     ],
     "prompt_number": 27
    },
    {
     "cell_type": "markdown",
     "metadata": {},
     "source": [
      "After 5 steps (computers count from 0), we processed all motion and sensor data and cannot iterate any further. No problem, because we know exactly where we are as we wanted to. "
     ]
    }
   ],
   "metadata": {}
  }
 ]
}