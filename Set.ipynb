{
 "metadata": {
  "name": "",
  "signature": "sha256:6dee68513d92beb065f1e2da4f2311bb85cc37cac9de9bb31e1b20181d73048a"
 },
 "nbformat": 3,
 "nbformat_minor": 0,
 "worksheets": [
  {
   "cells": [
    {
     "cell_type": "markdown",
     "metadata": {},
     "source": [
      "'Set' is a card game played with cards (obviously) that have 1,2 or 3 shapes on them. All shapes on a card are the same colour (one of three possible colors). There are also 3 possible shapes, which can be filled solid with color, only the edges can be coloured or the shape can be dashed. \n",
      "\n",
      "A picture says more than 1000 words, so:\n",
      "<img src=\"http://www.theboardgamefamily.com/wp-content/uploads/2013/03/SetCards2.jpg\" width=\"25%\" height=\"25%\">\n",
      "\n",
      "All in all, a card has 4 attributes, each of which can have 3 values, so 4*3=12 different cards. \n",
      "\n",
      "The goal of the game is to find a set of 3 cards that have, for each attribute, has all different values or all the same value. \n",
      "For example:\n",
      "- Card 1: 3 filled/solid, red wiggles\n",
      "- Card 2: 2 open, red wiggles\n",
      "- Card 3: 1 dashed, red wiggle\n",
      "\n",
      "The amount of shapes are all different, the filling (open, dashed, filled) are all different, but all cards have red wiggles.\n",
      "\n",
      "How can we make a program that plays this game (if we tell it what cards are on the table)?"
     ]
    },
    {
     "cell_type": "markdown",
     "metadata": {},
     "source": [
      "First of all, we need a way to tell the computer what a card is. It is some thing with some attributes. \n",
      "We also need to tell what values those attributes may have.\n",
      "Lets define a list of all the values for the color-attribute:"
     ]
    },
    {
     "cell_type": "code",
     "collapsed": false,
     "input": [
      "colors = [\"Green\", \"Red\", \"Purple\"]"
     ],
     "language": "python",
     "metadata": {},
     "outputs": [],
     "prompt_number": 2
    },
    {
     "cell_type": "markdown",
     "metadata": {},
     "source": [
      "What we did above is create a variable named 'color' and assign (with the '=' sign) a list to it. In Python, lists are created with the '[' and ']' characters. Anything between those square brackets is in the list.\n",
      "Inside that list, we put \"Green\", \"Red\" and \"Purple\", separated by commas. These are all *strings* that go in the list.\n",
      "\n",
      "Lets define the values for the other attributes:"
     ]
    },
    {
     "cell_type": "code",
     "collapsed": false,
     "input": [
      "shapes = [\"Diamond\", \"Wiggle\", \"Oval\"]\n",
      "fills = [\"Open\", \"Dashed\", \"Solid\"]\n",
      "amounts = [1,2,3]"
     ],
     "language": "python",
     "metadata": {},
     "outputs": [],
     "prompt_number": 3
    },
    {
     "cell_type": "markdown",
     "metadata": {},
     "source": [
      "Now we have all the values. We can now already describe the three cards of the set we had above:"
     ]
    },
    {
     "cell_type": "markdown",
     "metadata": {},
     "source": [
      "Lists can be 'indexed', which means that you can see what value there is at what place in the list:"
     ]
    },
    {
     "cell_type": "code",
     "collapsed": false,
     "input": [
      "shapes[1] #the first element is at index 0. Computers start counting from 0, so index 1 is the second element in the list"
     ],
     "language": "python",
     "metadata": {},
     "outputs": [
      {
       "metadata": {},
       "output_type": "pyout",
       "prompt_number": 7,
       "text": [
        "'Wiggle'"
       ]
      }
     ],
     "prompt_number": 7
    },
    {
     "cell_type": "markdown",
     "metadata": {},
     "source": [
      "Next, we have to describe what a card consists of:"
     ]
    },
    {
     "cell_type": "code",
     "collapsed": false,
     "input": [
      "card1 = {\"color\":\"Red\", \"shape\":\"Wiggle\", \"fill\":\"Solid\", \"amount\":3}\n",
      "card2 = {\"color\":\"Red\", \"shape\":\"Wiggle\", \"fill\":\"Open\", \"amount\":2}\n",
      "card3 = {\"color\":\"Red\", \"shape\":\"Wiggle\", \"fill\":\"Dashed\", \"amount\":1}"
     ],
     "language": "python",
     "metadata": {},
     "outputs": [],
     "prompt_number": 4
    },
    {
     "cell_type": "markdown",
     "metadata": {},
     "source": [
      "Here, we defined three more variables called 'card1' to 'card3'.\n",
      "Each of cardX above is a Python dictionary. It is a look up table, like a phonebook or a real life dictionary.\n",
      "If I want to know the color of amount of shapes on card 2, I can look it up the same way we could index a list:"
     ]
    },
    {
     "cell_type": "code",
     "collapsed": false,
     "input": [
      "card2[\"amount\"]"
     ],
     "language": "python",
     "metadata": {},
     "outputs": [
      {
       "metadata": {},
       "output_type": "pyout",
       "prompt_number": 6,
       "text": [
        "2"
       ]
      }
     ],
     "prompt_number": 6
    },
    {
     "cell_type": "markdown",
     "metadata": {},
     "source": [
      "Python takes the dictionary called 'card2' that we defined above and asks it to look up the value for the key \"amount\". In a phone book, the key would be a name of some person and the value would be their phone number.\n",
      "In a Python dictionary, almost anything can be the key in a dictionary and anything can be the value. \n",
      "This that can change cannot be dictionary keys, for a similar reason nobody can find you in a phone book if you change your name. "
     ]
    },
    {
     "cell_type": "markdown",
     "metadata": {},
     "source": [
      "We can let the computer check if three cards really are a set. To do this, we will write a function. When programming, you write functions that do one specific thing, that you may want to reuse a couple of times. \n",
      "A function may also be used just once of course. Splitting a program up in functions makes it easier to think about it, especcially if you give the function an desciptive name. \n",
      "\n",
      "Below, we'll write a function to check whether some attribute of a couple of cards is all the same:"
     ]
    },
    {
     "cell_type": "code",
     "collapsed": false,
     "input": [
      "def do_all_cards_have_the_same(attribute, cards):\n",
      "    all_the_same = cards[0][attribute] == cards[1][attribute] == cards[2][attribute]\n",
      "    return all_the_same"
     ],
     "language": "python",
     "metadata": {},
     "outputs": [],
     "prompt_number": 15
    },
    {
     "cell_type": "markdown",
     "metadata": {},
     "source": [
      "Above, we made a function that takes an attribute name and a list of cards. \n",
      "The function then checks if the attribute with that name is the same (with == you check if two values are equal) for card 0, 1 and 2 in the list. \n",
      "\n",
      "The result of this check is stored in the variable 'all_the_same' which the function then 'returns' as its outcome. \n",
      "\n",
      "Lets use the function to check whether the color and amount of the three cards are all the same:"
     ]
    },
    {
     "cell_type": "code",
     "collapsed": false,
     "input": [
      "print do_all_cards_have_the_same('color', [card1, card2, card3])\n",
      "print do_all_cards_have_the_same('amount', [card1, card2, card3])"
     ],
     "language": "python",
     "metadata": {},
     "outputs": [
      {
       "output_type": "stream",
       "stream": "stdout",
       "text": [
        "True\n",
        "False\n"
       ]
      }
     ],
     "prompt_number": 18
    },
    {
     "cell_type": "markdown",
     "metadata": {},
     "source": [
      "The function is once 'called' with the arguments 'color' and a list of three cards. The outcome of the function is then displayed by the print-statement. \n",
      "We do the same but with 'amount' for the first argument of the function."
     ]
    },
    {
     "cell_type": "markdown",
     "metadata": {},
     "source": [
      "With this function, we can almost write a new function that checks if three cards form a set. \n",
      "We first need a function to check if three values are all different as well:"
     ]
    },
    {
     "cell_type": "code",
     "collapsed": false,
     "input": [
      "def do_all_cards_have_a_different(attribute, cards):\n",
      "    all_different =     cards[0][attribute] != cards[1][attribute] \\\n",
      "                    and cards[1][attribute] != cards[2][attribute] \\\n",
      "                    and cards[0][attribute] != cards[2][attribute]\n",
      "    return all_different\n",
      "#Lets try it out:\n",
      "print do_all_cards_have_a_different('shape', [card1, card2, card3])\n",
      "print do_all_cards_have_a_different('fill', [card1, card2, card3])"
     ],
     "language": "python",
     "metadata": {},
     "outputs": [
      {
       "output_type": "stream",
       "stream": "stdout",
       "text": [
        "False\n",
        "True\n"
       ]
      }
     ],
     "prompt_number": 84
    },
    {
     "cell_type": "markdown",
     "metadata": {},
     "source": [
      "And indeed, the shapes of the three cards are not all different (all have wiggles) but the fills are correctly all different.\n",
      "\n",
      "We can finally write our function to check whether all attributes are the same or different:"
     ]
    },
    {
     "cell_type": "code",
     "collapsed": false,
     "input": [
      "def is_set(cards):\n",
      "    amount_ok = do_all_cards_have_the_same('amount', cards) or do_all_cards_have_a_different('amount', cards)\n",
      "    shape_ok = do_all_cards_have_the_same('shape', cards) or do_all_cards_have_a_different('shape', cards)\n",
      "    fill_ok = do_all_cards_have_the_same('fill', cards) or do_all_cards_have_a_different('fill', cards)\n",
      "    color_ok = do_all_cards_have_the_same('color', cards) or do_all_cards_have_a_different('color', cards)\n",
      "    \n",
      "    cards_are_a_set = color_ok and fill_ok and shape_ok and amount_ok\n",
      "    return cards_are_a_set\n",
      "\n",
      "print is_set([card1, card2, card3])"
     ],
     "language": "python",
     "metadata": {},
     "outputs": [
      {
       "output_type": "stream",
       "stream": "stdout",
       "text": [
        "False\n"
       ]
      }
     ],
     "prompt_number": 85
    },
    {
     "cell_type": "markdown",
     "metadata": {},
     "source": [
      "Yay, indeed our function works and the three cards are indeed a set.\n",
      "Lets see if it also works when we give it a different list of 3 cards:"
     ]
    },
    {
     "cell_type": "code",
     "collapsed": false,
     "input": [
      "card4 = {\"color\":\"Purple\", \"shape\":\"Diamond\", \"fill\":\"Dashed\", \"amount\":2}\n",
      "print is_set([card4, card2, card3])"
     ],
     "language": "python",
     "metadata": {},
     "outputs": [
      {
       "output_type": "stream",
       "stream": "stdout",
       "text": [
        "False\n"
       ]
      }
     ],
     "prompt_number": 86
    },
    {
     "cell_type": "markdown",
     "metadata": {},
     "source": [
      "Nope, card 2, 3 and 4 make no set.\n",
      "\n",
      "We can write the function is_set a bit shorther though and more understandable too:"
     ]
    },
    {
     "cell_type": "code",
     "collapsed": false,
     "input": [
      "attributes = [\"color\", \"fill\", \"amount\", \"shape\"] #Make a list of attributes we should check for\n",
      "def is_set_2(cards):\n",
      "    OKs = [] #Make a list of nothing in which we will store whether an attribute is ok\n",
      "    for attribute in attributes:\n",
      "        attribute_ok = do_all_cards_have_the_same(attribute, cards) or do_all_cards_have_a_different(attribute, cards)\n",
      "        OKs += [attribute_ok] #Add something to the list\n",
      "    all_ok = all(OKs) #all(....) check whether all values in the list it is given are True. If one is not, it reutns False.\n",
      "    return all_ok\n",
      "print is_set_2([card1, card2, card3]) #This must still be True\n",
      "print is_set_2([card4, card2, card3]) #And this of course False"
     ],
     "language": "python",
     "metadata": {},
     "outputs": [
      {
       "output_type": "stream",
       "stream": "stdout",
       "text": [
        "False\n",
        "False\n"
       ]
      }
     ],
     "prompt_number": 87
    },
    {
     "cell_type": "code",
     "collapsed": false,
     "input": [
      "#We can write and even shorter version!:\n",
      "def is_set_3(cards):\n",
      "    for attribute in attributes:\n",
      "        #the ()'s are important here below. What happens if you remove the outer parentheses?\n",
      "        if not (do_all_cards_have_the_same(attribute, cards) or do_all_cards_have_a_different(attribute, cards)): \n",
      "            return False\n",
      "    return True\n",
      "print is_set_3([card1, card2, card3]) #This must still be True\n",
      "print is_set_3([card4, card2, card3]) #And this of course False"
     ],
     "language": "python",
     "metadata": {},
     "outputs": [
      {
       "output_type": "stream",
       "stream": "stdout",
       "text": [
        "False\n",
        "False\n"
       ]
      }
     ],
     "prompt_number": 88
    },
    {
     "cell_type": "markdown",
     "metadata": {},
     "source": [
      "What happens above: Well, for every attribute in a list of attributes, check if they are all the same or all different.\n",
      "If this is not the case, return False. When we return, the function ends without checking the other attributes we may not have checked yet. But, this does not matter because it will not be a set if already one attribute is not OK for a set."
     ]
    },
    {
     "cell_type": "code",
     "collapsed": false,
     "input": [
      "def is_set_4(cards):\n",
      "    return all([do_all_cards_have_the_same(attribute, cards) or \\\n",
      "                do_all_cards_have_a_different(attribute, cards) for attribute in attributes])\n",
      "\n",
      "print is_set_4([card1, card2, card3]) #This must still be True\n",
      "print is_set_4([card4, card2, card3]) #And this of course False"
     ],
     "language": "python",
     "metadata": {},
     "outputs": [
      {
       "output_type": "stream",
       "stream": "stdout",
       "text": [
        "False\n",
        "False\n"
       ]
      }
     ],
     "prompt_number": 89
    },
    {
     "cell_type": "code",
     "collapsed": false,
     "input": [],
     "language": "python",
     "metadata": {},
     "outputs": [],
     "prompt_number": 89
    },
    {
     "cell_type": "markdown",
     "metadata": {},
     "source": [
      "Here, we have something new: a 'list comprehension'. A list comprehension is a way to use a for-loop to make or transform some list or other collection. \n",
      "Lets start with a simple example of a list comprehension:"
     ]
    },
    {
     "cell_type": "code",
     "collapsed": false,
     "input": [
      "numbers = range(10) #range gives you a list of numbers from 0 up to some number. You can make it start from somewhere else too\n",
      "print numbers\n",
      "doubles = [number*2 for number in numbers]\n",
      "print doubles"
     ],
     "language": "python",
     "metadata": {},
     "outputs": [
      {
       "output_type": "stream",
       "stream": "stdout",
       "text": [
        "[0, 1, 2, 3, 4, 5, 6, 7, 8, 9]\n",
        "[0, 2, 4, 6, 8, 10, 12, 14, 16, 18]\n"
       ]
      }
     ],
     "prompt_number": 90
    },
    {
     "cell_type": "markdown",
     "metadata": {},
     "source": [
      "In a list comprehension, you can also apply functions and only let item that pass some test through:"
     ]
    },
    {
     "cell_type": "code",
     "collapsed": false,
     "input": [
      "def some_function(num):\n",
      "    return float(num)/2\n",
      "print [some_function(number) for number in numbers if number > 4]"
     ],
     "language": "python",
     "metadata": {},
     "outputs": [
      {
       "output_type": "stream",
       "stream": "stdout",
       "text": [
        "[2.5, 3.0, 3.5, 4.0, 4.5]\n"
       ]
      }
     ],
     "prompt_number": 91
    },
    {
     "cell_type": "markdown",
     "metadata": {},
     "source": [
      "Now that we have a way to check whether three cards are a set, lets write a function to find all sets in a collection of cards (that may be laying on our game table)\n",
      "Lets first describe all the cards in the picture above:\n",
      "<img src=\"http://www.theboardgamefamily.com/wp-content/uploads/2013/03/SetCards2.jpg\" width=\"25%\" height=\"25%\">"
     ]
    },
    {
     "cell_type": "code",
     "collapsed": false,
     "input": [
      "card1 = {\"color\":\"Purple\", \"shape\":\"Wiggle\", \"fill\":\"Open\", \"amount\":1}\n",
      "card2 = {\"color\":\"Purple\", \"shape\":\"Wiggle\", \"fill\":\"Dashed\", \"amount\":3}\n",
      "card3 = {\"color\":\"Red\", \"shape\":\"Oval\", \"fill\":\"Solid\", \"amount\":3}\n",
      "\n",
      "card4 = {\"color\":\"Green\", \"shape\":\"Oval\", \"fill\":\"Solid\", \"amount\":1}\n",
      "card5 = {\"color\":\"Purple\", \"shape\":\"Oval\", \"fill\":\"Solid\", \"amount\":2}\n",
      "card6 = {\"color\":\"Green\", \"shape\":\"Diamond\", \"fill\":\"Open\", \"amount\":3}\n",
      "\n",
      "card7 = {\"color\":\"Red\", \"shape\":\"Wiggle\", \"fill\":\"Solid\", \"amount\":3}\n",
      "card8 = {\"color\":\"Purple\", \"shape\":\"Diamond\", \"fill\":\"Dashed\", \"amount\":3}\n",
      "card9 = {\"color\":\"Red\", \"shape\":\"Wiggle\", \"fill\":\"Solid\", \"amount\":1}\n",
      "\n",
      "card10 = {\"color\":\"Red\", \"shape\":\"Diamond\", \"fill\":\"Solid\", \"amount\":2}\n",
      "card11 = {\"color\":\"Green\", \"shape\":\"Diamond\", \"fill\":\"Solid\", \"amount\":1}\n",
      "card12 = {\"color\":\"Green\", \"shape\":\"Oval\", \"fill\":\"Solid\", \"amount\":2}\n",
      "cards_on_table = [card1, card2, card3, card4, card5, card6, card7, card8, card9, card10, card11, card12]"
     ],
     "language": "python",
     "metadata": {},
     "outputs": [],
     "prompt_number": 92
    },
    {
     "cell_type": "markdown",
     "metadata": {},
     "source": [
      "Entering all this information by hand is sumbersome and you are not going to win any Set game this way. In a next tutorial, maybe we\u013al try to recognize the cards from an image automatically...\n",
      "\n",
      "Anyway we can now write and test our function. The simplest way to check whether a combination of thee cards are a set is to simply try all combinations.\n",
      "Generating a list of combinations of three (or any number) is a task we might need more often and is a separate piece of code, so a perfect candidate to be made into a function: Can you write such a function?"
     ]
    },
    {
     "cell_type": "code",
     "collapsed": false,
     "input": [
      "def combinations(items, length=3):\n",
      "    pass"
     ],
     "language": "python",
     "metadata": {},
     "outputs": [],
     "prompt_number": 93
    },
    {
     "cell_type": "markdown",
     "metadata": {},
     "source": [
      "For now, lets just import a function that does this already, so we don't have to make it ourselves:"
     ]
    },
    {
     "cell_type": "code",
     "collapsed": false,
     "input": [
      "from itertools import combinations\n",
      "\n",
      "print list(combinations(range(3), 2))"
     ],
     "language": "python",
     "metadata": {},
     "outputs": [
      {
       "output_type": "stream",
       "stream": "stdout",
       "text": [
        "[(0, 1), (0, 2), (1, 2)]\n"
       ]
      }
     ],
     "prompt_number": 94
    },
    {
     "cell_type": "markdown",
     "metadata": {},
     "source": [
      "Lets use it to write our find_sets function:"
     ]
    },
    {
     "cell_type": "code",
     "collapsed": false,
     "input": [
      "def find_sets(cards):\n",
      "    for possible_set in combinations(cards, 3):\n",
      "        if is_set(possible_set):\n",
      "            yield possible_set\n",
      "            \n",
      "sets = find_sets(cards_on_table)\n",
      "\n",
      "sets.next()"
     ],
     "language": "python",
     "metadata": {},
     "outputs": [
      {
       "metadata": {},
       "output_type": "pyout",
       "prompt_number": 95,
       "text": [
        "({'amount': 1, 'color': 'Purple', 'fill': 'Open', 'shape': 'Wiggle'},\n",
        " {'amount': 2, 'color': 'Purple', 'fill': 'Solid', 'shape': 'Oval'},\n",
        " {'amount': 3, 'color': 'Purple', 'fill': 'Dashed', 'shape': 'Diamond'})"
       ]
      }
     ],
     "prompt_number": 95
    },
    {
     "cell_type": "code",
     "collapsed": false,
     "input": [
      "sets.next()"
     ],
     "language": "python",
     "metadata": {},
     "outputs": [
      {
       "metadata": {},
       "output_type": "pyout",
       "prompt_number": 96,
       "text": [
        "({'amount': 3, 'color': 'Purple', 'fill': 'Dashed', 'shape': 'Wiggle'},\n",
        " {'amount': 3, 'color': 'Red', 'fill': 'Solid', 'shape': 'Oval'},\n",
        " {'amount': 3, 'color': 'Green', 'fill': 'Open', 'shape': 'Diamond'})"
       ]
      }
     ],
     "prompt_number": 96
    },
    {
     "cell_type": "markdown",
     "metadata": {},
     "source": [
      "Lets bring in the picture once more to verify the results:\n",
      "<img src=\"http://www.theboardgamefamily.com/wp-content/uploads/2013/03/SetCards2.jpg\" width=\"25%\" height=\"25%\">"
     ]
    },
    {
     "cell_type": "markdown",
     "metadata": {},
     "source": [
      "Perfect so far. But what have we done in our code? There is a new 'yield' keyword used! \n",
      "Using yield makes a function a generator. Generators generate a value one at a time and only on request. Between requests, they take a pause, so to say. Once a request for a new, next value is made using 'next()', they run until they encounter a yield-statement and pause after yielding/giving the value after 'yield'. \n",
      "\n",
      "For functions that can have very much output, this can save a lot of time and memory. If you want, you can still get all the values at once, by calling 'list(generator)' on a generator. \n",
      "\n",
      "The function 'combinations' we importer from the itertools-module is also a generator. As you can imagine, if you have a large list, there are many, many combinations possible. \n",
      "\n",
      "Sometimes, you don even need all the possible combinations, just as we only need to know one set to win the game (as long as we are the first to find one).\n",
      "\n",
      "Lets list the other sets on the table:"
     ]
    },
    {
     "cell_type": "code",
     "collapsed": false,
     "input": [
      "all_sets = list(sets)\n",
      "for set_ in all_sets:\n",
      "    for card in set_:\n",
      "        print card\n",
      "    print \"-----\""
     ],
     "language": "python",
     "metadata": {},
     "outputs": [
      {
       "output_type": "stream",
       "stream": "stdout",
       "text": [
        "{'color': 'Red', 'shape': 'Oval', 'amount': 3, 'fill': 'Solid'}\n",
        "{'color': 'Green', 'shape': 'Oval', 'amount': 1, 'fill': 'Solid'}\n",
        "{'color': 'Purple', 'shape': 'Oval', 'amount': 2, 'fill': 'Solid'}\n",
        "-----\n",
        "{'color': 'Red', 'shape': 'Oval', 'amount': 3, 'fill': 'Solid'}\n",
        "{'color': 'Red', 'shape': 'Wiggle', 'amount': 1, 'fill': 'Solid'}\n",
        "{'color': 'Red', 'shape': 'Diamond', 'amount': 2, 'fill': 'Solid'}\n",
        "-----\n",
        "{'color': 'Purple', 'shape': 'Oval', 'amount': 2, 'fill': 'Solid'}\n",
        "{'color': 'Red', 'shape': 'Wiggle', 'amount': 3, 'fill': 'Solid'}\n",
        "{'color': 'Green', 'shape': 'Diamond', 'amount': 1, 'fill': 'Solid'}\n",
        "-----\n"
       ]
      }
     ],
     "prompt_number": 97
    },
    {
     "cell_type": "code",
     "collapsed": false,
     "input": [],
     "language": "python",
     "metadata": {},
     "outputs": [],
     "prompt_number": 82
    },
    {
     "cell_type": "code",
     "collapsed": false,
     "input": [],
     "language": "python",
     "metadata": {},
     "outputs": []
    }
   ],
   "metadata": {}
  }
 ]
}